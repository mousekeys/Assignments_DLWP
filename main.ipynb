{
 "cells": [
  {
   "cell_type": "code",
   "execution_count": 1,
   "metadata": {},
   "outputs": [],
   "source": [
    "import os\n",
    "import cv2\n",
    "import numpy as np\n",
    "import copy"
   ]
  },
  {
   "cell_type": "code",
   "execution_count": null,
   "metadata": {},
   "outputs": [],
   "source": []
  },
  {
   "cell_type": "code",
   "execution_count": 2,
   "metadata": {},
   "outputs": [],
   "source": [
    "def calc_dimension(screen):\n",
    "    _,img=screen.read()\n",
    "    return (img.shape)\n"
   ]
  },
  {
   "cell_type": "code",
   "execution_count": 3,
   "metadata": {},
   "outputs": [
    {
     "data": {
      "text/plain": [
       "int"
      ]
     },
     "execution_count": 3,
     "metadata": {},
     "output_type": "execute_result"
    }
   ],
   "source": [
    "cam=cv2.VideoCapture(0) #-- (480, 640, 3)\n",
    "w,h,_=calc_dimension(cam)\n",
    "type(w)"
   ]
  },
  {
   "cell_type": "code",
   "execution_count": 9,
   "metadata": {},
   "outputs": [],
   "source": [
    "lion=cv2.VideoCapture('lion_roar_2.mp4')\n",
    "cam=cv2.VideoCapture(0) #-- (480, 640, 3)\n",
    "w,h,_=calc_dimension(cam) #-- (720, 1280, 3)\n",
    "\n",
    "green_rgb = np.array([[[8, 243, 27]]],dtype=np.uint8)\n",
    "green_hsv = cv2.cvtColor(green_rgb,cv2.COLOR_RGB2HSV)\n",
    "lower_range = np.array([green_hsv[0][0][0]-20,100,100])\n",
    "upper_range = np.array([green_hsv[0][0][0]+20,255,255])\n",
    "\n",
    "while True:\n",
    "    key = cv2.waitKey(10)\n",
    "    if key == 27:  \n",
    "        break\n",
    "\n",
    "\n",
    "    ret_lion,video=lion.read()\n",
    "    ret_cam,camera=cam.read()\n",
    "\n",
    "    if not ret_lion and not ret_cam:\n",
    "        break\n",
    "\n",
    "# Preparation for masking root image (IMAGE WITH GREEN BG)\n",
    "    # Copy the image for list are mutable\n",
    "    lion_img=copy.deepcopy(video)\n",
    "    cam_img=copy.deepcopy(camera)\n",
    "\n",
    "# Resize lion image for its smaller\n",
    "    lion_img = cv2.resize(lion_img,(h,w))\n",
    "\n",
    "\n",
    "    #Convert to right color domain\n",
    "    lion_img_hsv=cv2.cvtColor(lion_img,cv2.COLOR_RGB2HSV)\n",
    "    # cam_img_hsv=cv2.cvtColor(cam_img,cv2.COLOR_RGB2HSV)\n",
    "\n",
    "\n",
    "    #Perform masking operation with a range between them\n",
    "    lion_img_hsv=cv2.inRange(lion_img_hsv,lower_range,upper_range)\n",
    "    #Inverse the image color (BLACK --> WHITE and vice versa)\n",
    "    lion_img_inv=255-lion_img_hsv\n",
    "\n",
    "\n",
    "# Perform cutting process to get the object only part \n",
    "# Added back the object except the green screen and all others are blackened out for masking\n",
    "    lion_img_mask=cv2.bitwise_or(lion_img,lion_img,mask=lion_img_inv)\n",
    "\n",
    "\n",
    "#Create a black space in the camera to add the previous object into \n",
    "    temp_img=cv2.bitwise_or(cam_img,cam_img,mask=lion_img_hsv)\n",
    "   \n",
    "#Added both the images into a single one\n",
    "    final_img=cv2.bitwise_or(temp_img,lion_img_mask)\n",
    "    \n",
    "    cv2.imshow('img',temp_img)\n",
    "\n",
    "\n",
    "\n",
    "lion.release()\n",
    "cv2.destroyAllWindows()"
   ]
  },
  {
   "cell_type": "code",
   "execution_count": null,
   "metadata": {},
   "outputs": [],
   "source": []
  }
 ],
 "metadata": {
  "kernelspec": {
   "display_name": "venv",
   "language": "python",
   "name": "python3"
  },
  "language_info": {
   "codemirror_mode": {
    "name": "ipython",
    "version": 3
   },
   "file_extension": ".py",
   "mimetype": "text/x-python",
   "name": "python",
   "nbconvert_exporter": "python",
   "pygments_lexer": "ipython3",
   "version": "3.12.3"
  }
 },
 "nbformat": 4,
 "nbformat_minor": 2
}
